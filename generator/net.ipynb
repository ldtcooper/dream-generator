{
 "metadata": {
  "language_info": {
   "codemirror_mode": {
    "name": "ipython",
    "version": 3
   },
   "file_extension": ".py",
   "mimetype": "text/x-python",
   "name": "python",
   "nbconvert_exporter": "python",
   "pygments_lexer": "ipython3",
   "version": "3.8.5-final"
  },
  "orig_nbformat": 2,
  "kernelspec": {
   "name": "python3",
   "display_name": "Python 3.8.5 64-bit ('dream-gen': conda)",
   "metadata": {
    "interpreter": {
     "hash": "261d4d51a774c4b95de61f207ebd486b8827de8303def4e0d4bb2a1b3375f1cb"
    }
   }
  }
 },
 "nbformat": 4,
 "nbformat_minor": 2,
 "cells": [
  {
   "cell_type": "code",
   "execution_count": 13,
   "metadata": {},
   "outputs": [
    {
     "output_type": "stream",
     "name": "stderr",
     "text": [
      "[nltk_data] Downloading package stopwords to /root/nltk_data...\n[nltk_data]   Package stopwords is already up-to-date!\n"
     ]
    },
    {
     "output_type": "execute_result",
     "data": {
      "text/plain": [
       "True"
      ]
     },
     "metadata": {},
     "execution_count": 13
    }
   ],
   "source": [
    "# made according to instructions at https://stackabuse.com/text-generation-with-python-and-tensorflow-keras/\n",
    "import numpy\n",
    "import sys\n",
    "import nltk\n",
    "from keras.models import Sequential\n",
    "from keras.layers import Dense, Dropout, LSTM\n",
    "from keras.utils import np_utils\n",
    "from keras.callbacks import ModelCheckpoint\n",
    "\n",
    "nltk.download('stopwords')\n",
    "# nltk.download('corpus')"
   ]
  },
  {
   "cell_type": "code",
   "execution_count": 16,
   "metadata": {
    "tags": []
   },
   "outputs": [],
   "source": [
    "f = open('../dream-catcher/clean-dreams.txt').read()\n",
    "\n",
    "def tokenize(input: str):\n",
    "    tokenizer = RegexpTokenizer(r'\\w+') #splits string on any whitespace for tokenization\n",
    "    tokens = tokenizer.tokenize(input) #tokenizes each word in input\n",
    "    filtered = filter(lambda token: token not in stopwords.words('english'), tokens) #removes stop/filler words\n",
    "    return \" \".join(filtered)\n",
    "\n",
    "processed = tokenize(f)\n"
   ]
  },
  {
   "cell_type": "code",
   "execution_count": null,
   "metadata": {},
   "outputs": [],
   "source": []
  }
 ]
}