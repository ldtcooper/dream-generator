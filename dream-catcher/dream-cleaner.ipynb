{
 "metadata": {
  "language_info": {
   "codemirror_mode": {
    "name": "ipython",
    "version": 3
   },
   "file_extension": ".py",
   "mimetype": "text/x-python",
   "name": "python",
   "nbconvert_exporter": "python",
   "pygments_lexer": "ipython3",
   "version": "3.9.1-final"
  },
  "orig_nbformat": 2,
  "kernelspec": {
   "name": "python3",
   "display_name": "Python 3",
   "language": "python"
  }
 },
 "nbformat": 4,
 "nbformat_minor": 2,
 "cells": [
  {
   "cell_type": "code",
   "execution_count": 1,
   "metadata": {},
   "outputs": [],
   "source": [
    "import pandas as pd\n",
    "dreams = pd.read_csv('./dreams.tsv', sep='\\t', header=None)"
   ]
  },
  {
   "cell_type": "code",
   "execution_count": 2,
   "metadata": {},
   "outputs": [
    {
     "output_type": "execute_result",
     "data": {
      "text/plain": [
       "                                                    0\n",
       "0   I have a speech for class and I am speaking ab...\n",
       "1   Next thing I know I'm my normal 13 year old se...\n",
       "2   I had a dream where I was home alone and this ...\n",
       "3   So for about the past week i’ve been quitting ...\n",
       "4   So first of all, hello everyone! This is my fi...\n",
       "5   I had a dream where i was at the beach with my...\n",
       "7   How I think this relates to my real life situa...\n",
       "9   I keep having this dream. That I killed someon...\n",
       "10  I keep having dreams of moving house, and one ...\n",
       "11  Im just in this haze of energy right now, Righ..."
      ],
      "text/html": "<div>\n<style scoped>\n    .dataframe tbody tr th:only-of-type {\n        vertical-align: middle;\n    }\n\n    .dataframe tbody tr th {\n        vertical-align: top;\n    }\n\n    .dataframe thead th {\n        text-align: right;\n    }\n</style>\n<table border=\"1\" class=\"dataframe\">\n  <thead>\n    <tr style=\"text-align: right;\">\n      <th></th>\n      <th>0</th>\n    </tr>\n  </thead>\n  <tbody>\n    <tr>\n      <th>0</th>\n      <td>I have a speech for class and I am speaking ab...</td>\n    </tr>\n    <tr>\n      <th>1</th>\n      <td>Next thing I know I'm my normal 13 year old se...</td>\n    </tr>\n    <tr>\n      <th>2</th>\n      <td>I had a dream where I was home alone and this ...</td>\n    </tr>\n    <tr>\n      <th>3</th>\n      <td>So for about the past week i’ve been quitting ...</td>\n    </tr>\n    <tr>\n      <th>4</th>\n      <td>So first of all, hello everyone! This is my fi...</td>\n    </tr>\n    <tr>\n      <th>5</th>\n      <td>I had a dream where i was at the beach with my...</td>\n    </tr>\n    <tr>\n      <th>7</th>\n      <td>How I think this relates to my real life situa...</td>\n    </tr>\n    <tr>\n      <th>9</th>\n      <td>I keep having this dream. That I killed someon...</td>\n    </tr>\n    <tr>\n      <th>10</th>\n      <td>I keep having dreams of moving house, and one ...</td>\n    </tr>\n    <tr>\n      <th>11</th>\n      <td>Im just in this haze of energy right now, Righ...</td>\n    </tr>\n  </tbody>\n</table>\n</div>"
     },
     "metadata": {},
     "execution_count": 2
    }
   ],
   "source": [
    "dreams = dreams.dropna()\n",
    "dreams.head(10)"
   ]
  },
  {
   "cell_type": "code",
   "execution_count": 3,
   "metadata": {},
   "outputs": [
    {
     "output_type": "execute_result",
     "data": {
      "text/plain": [
       "                                                   0\n",
       "0  i have a speech for class and i am speaking ab...\n",
       "1  next thing i know i m my normal 13 year old se...\n",
       "2  i had a dream where i was home alone and this ...\n",
       "3  so for about the past week i ve been quitting ...\n",
       "4  so first of all  hello everyone  this is my fi..."
      ],
      "text/html": "<div>\n<style scoped>\n    .dataframe tbody tr th:only-of-type {\n        vertical-align: middle;\n    }\n\n    .dataframe tbody tr th {\n        vertical-align: top;\n    }\n\n    .dataframe thead th {\n        text-align: right;\n    }\n</style>\n<table border=\"1\" class=\"dataframe\">\n  <thead>\n    <tr style=\"text-align: right;\">\n      <th></th>\n      <th>0</th>\n    </tr>\n  </thead>\n  <tbody>\n    <tr>\n      <th>0</th>\n      <td>i have a speech for class and i am speaking ab...</td>\n    </tr>\n    <tr>\n      <th>1</th>\n      <td>next thing i know i m my normal 13 year old se...</td>\n    </tr>\n    <tr>\n      <th>2</th>\n      <td>i had a dream where i was home alone and this ...</td>\n    </tr>\n    <tr>\n      <th>3</th>\n      <td>so for about the past week i ve been quitting ...</td>\n    </tr>\n    <tr>\n      <th>4</th>\n      <td>so first of all  hello everyone  this is my fi...</td>\n    </tr>\n  </tbody>\n</table>\n</div>"
     },
     "metadata": {},
     "execution_count": 3
    }
   ],
   "source": [
    "dreams[0] = dreams[0].str.lower()\n",
    "dreams.head()\n",
    "dreams[0] = dreams[0].str.replace('[^a-zA-Z0-9 ]+', ' ')\n",
    "dreams.head()"
   ]
  },
  {
   "cell_type": "code",
   "execution_count": 4,
   "metadata": {},
   "outputs": [
    {
     "output_type": "execute_result",
     "data": {
      "text/plain": [
       "                                                   0\n",
       "0  i have a speech for class and i am speaking ab...\n",
       "1  next thing i know i m my normal 13 year old se...\n",
       "2  i had a dream where i was home alone and this ...\n",
       "3  so for about the past week i ve been quitting ...\n",
       "4  so first of all hello everyone this is my firs..."
      ],
      "text/html": "<div>\n<style scoped>\n    .dataframe tbody tr th:only-of-type {\n        vertical-align: middle;\n    }\n\n    .dataframe tbody tr th {\n        vertical-align: top;\n    }\n\n    .dataframe thead th {\n        text-align: right;\n    }\n</style>\n<table border=\"1\" class=\"dataframe\">\n  <thead>\n    <tr style=\"text-align: right;\">\n      <th></th>\n      <th>0</th>\n    </tr>\n  </thead>\n  <tbody>\n    <tr>\n      <th>0</th>\n      <td>i have a speech for class and i am speaking ab...</td>\n    </tr>\n    <tr>\n      <th>1</th>\n      <td>next thing i know i m my normal 13 year old se...</td>\n    </tr>\n    <tr>\n      <th>2</th>\n      <td>i had a dream where i was home alone and this ...</td>\n    </tr>\n    <tr>\n      <th>3</th>\n      <td>so for about the past week i ve been quitting ...</td>\n    </tr>\n    <tr>\n      <th>4</th>\n      <td>so first of all hello everyone this is my firs...</td>\n    </tr>\n  </tbody>\n</table>\n</div>"
     },
     "metadata": {},
     "execution_count": 4
    }
   ],
   "source": [
    "dreams[0] = dreams[0].str.replace(r'[ ]{2,}', ' ')\n",
    "dreams.head()"
   ]
  },
  {
   "cell_type": "code",
   "execution_count": 5,
   "metadata": {},
   "outputs": [],
   "source": [
    "# a lot of these posts include urls that need out\n",
    "dreams[0] = dreams[0].str.replace(r'http\\S+', '')"
   ]
  },
  {
   "cell_type": "code",
   "execution_count": 6,
   "metadata": {},
   "outputs": [],
   "source": [
    "dreams.to_csv('clean-dreams.txt', sep='\\n', index=False, header=False)"
   ]
  },
  {
   "cell_type": "code",
   "execution_count": null,
   "metadata": {},
   "outputs": [],
   "source": []
  }
 ]
}